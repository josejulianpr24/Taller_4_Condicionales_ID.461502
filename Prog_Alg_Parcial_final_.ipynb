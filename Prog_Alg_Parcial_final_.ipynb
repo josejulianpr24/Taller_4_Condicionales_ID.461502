{
  "nbformat": 4,
  "nbformat_minor": 0,
  "metadata": {
    "colab": {
      "provenance": [],
      "authorship_tag": "ABX9TyPf4yWbxflan2tn+Dmpgca6",
      "include_colab_link": true
    },
    "kernelspec": {
      "name": "python3",
      "display_name": "Python 3"
    },
    "language_info": {
      "name": "python"
    }
  },
  "cells": [
    {
      "cell_type": "markdown",
      "metadata": {
        "id": "view-in-github",
        "colab_type": "text"
      },
      "source": [
        "<a href=\"https://colab.research.google.com/github/josejulianpr24/Taller_4_Condicionales_ID.461502/blob/main/Prog_Alg_Parcial_final_.ipynb\" target=\"_parent\"><img src=\"https://colab.research.google.com/assets/colab-badge.svg\" alt=\"Open In Colab\"/></a>"
      ]
    },
    {
      "cell_type": "markdown",
      "source": [
        "#Parcial final de Programacion y Algoritmia\n",
        "##Estudiante Jose Julian Perez Ramos\n",
        "##ID 000461502\n",
        "##Ingenieria Civil"
      ],
      "metadata": {
        "id": "6i0KPU84Osvl"
      }
    },
    {
      "cell_type": "markdown",
      "source": [
        "##Parcial final"
      ],
      "metadata": {
        "id": "GMja17sMS6Rk"
      }
    },
    {
      "cell_type": "markdown",
      "source": [
        " Solicitar al usuario que ingrese su nombre y luego imprimir un mensaje de saludo\n",
        "con su nombre."
      ],
      "metadata": {
        "id": "xSLKaRvxwAgs"
      }
    },
    {
      "cell_type": "code",
      "source": [
        "# Solicitar al usuario que ingrese su nombre\n",
        "nombre = input(\"Por favor, ingresa tu nombre: \")\n",
        "\n",
        "# Imprimir un mensaje de saludo con el nombre del usuario\n",
        "print(\"¡Hola, \" + nombre + \"! Bienvenido.\")"
      ],
      "metadata": {
        "colab": {
          "base_uri": "https://localhost:8080/"
        },
        "id": "f2eBYImdv_pN",
        "outputId": "efe886ae-e6b0-4836-b75a-122ccec36a56"
      },
      "execution_count": 21,
      "outputs": [
        {
          "output_type": "stream",
          "name": "stdout",
          "text": [
            "Por favor, ingresa tu nombre: Jose Julian \n",
            "¡Hola, Jose Julian ! Bienvenido.\n"
          ]
        }
      ]
    },
    {
      "cell_type": "markdown",
      "source": [
        "##Ejercicio 1"
      ],
      "metadata": {
        "id": "wZMQUEri1V04"
      }
    },
    {
      "cell_type": "code",
      "source": [
        "\n",
        "def calculadora():\n",
        "    num1 = float(input(\"Ingrese el primer número: \"))\n",
        "    num2 = float(input(\"Ingrese el segundo número: \"))\n",
        "\n",
        "    print(\"Seleccione una operación:\")\n",
        "    print(\"1. Suma\")\n",
        "    print(\"2. Resta\")\n",
        "    print(\"3. Multiplicación\")\n",
        "    print(\"4. División\")\n",
        "\n",
        "    opcion = int(input(\"Ingrese el número de la operación deseada: \"))\n",
        "\n",
        "    if opcion == 1:\n",
        "        resultado = num1 + num2\n",
        "        print(\"El resultado de la suma es:\", resultado)\n",
        "    elif opcion == 2:\n",
        "        resultado = num1 - num2\n",
        "        print(\"El resultado de la resta es:\", resultado)\n",
        "    elif opcion == 3:\n",
        "        resultado = num1 * num2\n",
        "        print(\"El resultado de la multiplicación es:\", resultado)\n",
        "    elif opcion == 4:\n",
        "        if num2 != 0:\n",
        "            resultado = num1 / num2\n",
        "            print(\"El resultado de la división es:\", resultado)\n",
        "        else:\n",
        "            print(\"Error: No se puede dividir entre cero.\")\n",
        "\n",
        "    continuar = input(\"¿Desea continuar calculando? (S/N): \")\n",
        "\n",
        "    if continuar.upper() == \"S\":\n",
        "        calculadora()\n",
        "    else:\n",
        "        print(\"¡Gracias!\")\n",
        "\n",
        "calculadora()\n"
      ],
      "metadata": {
        "colab": {
          "base_uri": "https://localhost:8080/"
        },
        "id": "uz4imYJOk6Lt",
        "outputId": "d2a29456-0f86-4293-acd9-b5b6f557581e"
      },
      "execution_count": 2,
      "outputs": [
        {
          "output_type": "stream",
          "name": "stdout",
          "text": [
            "Ingrese el primer número: 10\n",
            "Ingrese el segundo número: 9\n",
            "Seleccione una operación:\n",
            "1. Suma\n",
            "2. Resta\n",
            "3. Multiplicación\n",
            "4. División\n",
            "Ingrese el número de la operación deseada: 2\n",
            "El resultado de la resta es: 1.0\n",
            "¿Desea continuar calculando? (S/N): n\n",
            "¡Gracias!\n"
          ]
        }
      ]
    },
    {
      "cell_type": "markdown",
      "source": [
        "##Ejercicio  2"
      ],
      "metadata": {
        "id": "NEt15_OheQq8"
      }
    },
    {
      "cell_type": "code",
      "source": [
        "import random\n",
        "secuencia = [random.randint(1, 100) for _ in range(15)]\n",
        "\n",
        "numeros_pares = [num for num in secuencia if num % 2 == 0]\n",
        "\n",
        "promedio = sum(numeros_pares) / len(numeros_pares)\n",
        "\n",
        "print(\"Secuencia:\", secuencia)\n",
        "print(\"Números pares:\", numeros_pares)\n",
        "print(\"Promedio de números pares:\", promedio)\n"
      ],
      "metadata": {
        "colab": {
          "base_uri": "https://localhost:8080/"
        },
        "id": "7MsDhDYOeRRu",
        "outputId": "70c9cee8-e825-4f8a-a524-a1cdd7892016"
      },
      "execution_count": 35,
      "outputs": [
        {
          "output_type": "stream",
          "name": "stdout",
          "text": [
            "Secuencia: [91, 8, 13, 65, 8, 28, 79, 99, 80, 18, 32, 90, 77, 70, 51]\n",
            "Números pares: [8, 8, 28, 80, 18, 32, 90, 70]\n",
            "Promedio de números pares: 41.75\n"
          ]
        }
      ]
    },
    {
      "cell_type": "markdown",
      "source": [
        "##Numero3"
      ],
      "metadata": {
        "id": "WfvGFskwonKp"
      }
    },
    {
      "cell_type": "code",
      "source": [
        "def lanzar_dados():\n",
        "    dado1 = random.randint(1, 6)\n",
        "    dado2 = random.randint(1, 6)\n",
        "    return dado1, dado2\n",
        "\n",
        "def mostrar_resultado(dado1, dado2):\n",
        "    print(\"Resultado del lanzamiento: \")\n",
        "    print(\"Dado 1:\", dado1)\n",
        "    print(\"Dado 2:\", dado2)\n",
        "\n",
        "def jugar():\n",
        "    while True:\n",
        "        input(\"Presiona Enter para lanzar los dados...\")\n",
        "        dado1, dado2 = lanzar_dados()\n",
        "        mostrar_resultado(dado1, dado2)\n",
        "\n",
        "        if dado1 == dado2:\n",
        "            print(\"¡Has obtenido un par de dados iguales! Juego terminado.\")\n",
        "            break\n",
        "\n",
        "        decision = input(\"¿Quieres lanzar los dados de nuevo? (s/n): \")\n",
        "        if decision.lower() != \"s\":\n",
        "\n",
        "\n",
        "jugar()\n"
      ],
      "metadata": {
        "colab": {
          "base_uri": "https://localhost:8080/"
        },
        "id": "QTMjkuKJtHMe",
        "outputId": "b291a5de-6d57-4d4b-fb4f-e273309d1aa5"
      },
      "execution_count": 41,
      "outputs": [
        {
          "output_type": "stream",
          "name": "stdout",
          "text": [
            "Presiona Enter para lanzar los dados...\n",
            "Resultado del lanzamiento: \n",
            "Dado 1: 6\n",
            "Dado 2: 3\n",
            "¿Quieres lanzar los dados de nuevo? (s/n): s\n",
            "Presiona Enter para lanzar los dados...\n",
            "Resultado del lanzamiento: \n",
            "Dado 1: 6\n",
            "Dado 2: 5\n",
            "¿Quieres lanzar los dados de nuevo? (s/n): s\n",
            "Presiona Enter para lanzar los dados...\n",
            "Resultado del lanzamiento: \n",
            "Dado 1: 4\n",
            "Dado 2: 4\n",
            "¡Has obtenido un par de dados iguales! Juego terminado.\n"
          ]
        }
      ]
    },
    {
      "cell_type": "markdown",
      "source": [
        "##Ejecicio 4"
      ],
      "metadata": {
        "id": "2oCBH1iFo4CE"
      }
    },
    {
      "cell_type": "markdown",
      "source": [
        "Pedir al usuario que ingrese dos números y determinar si el primero es divisible por\n",
        "el segundo."
      ],
      "metadata": {
        "id": "0hW6p_CA9EAo"
      }
    },
    {
      "cell_type": "code",
      "source": [
        "numero1 = int(input(\"Ingrese el primer número: \"))\n",
        "numero2 = int(input(\"Ingrese el segundo número: \"))\n",
        "\n",
        "if numero1 % numero2 == 0:\n",
        "    print(f\"{numero1} es divisible por {numero2}\")\n",
        "else:\n",
        "    print(f\"{numero1} no es divisible por {numero2}\")\n"
      ],
      "metadata": {
        "colab": {
          "base_uri": "https://localhost:8080/"
        },
        "id": "JU9gyDVc8lGZ",
        "outputId": "ed3cd6ba-b9a5-4c87-c72d-9d2b83e47582"
      },
      "execution_count": 56,
      "outputs": [
        {
          "output_type": "stream",
          "name": "stdout",
          "text": [
            "Ingrese el primer número: 10\n",
            "Ingrese el segundo número: 5\n",
            "10 es divisible por 5\n"
          ]
        }
      ]
    },
    {
      "cell_type": "markdown",
      "source": [
        "##Ejercicio 5\n",
        "Pedir al usuario que ingrese dos valores y luego intercambiar los valores de las\n",
        "variables y mostrarlos.\n"
      ],
      "metadata": {
        "id": "TNiVm11Ro-Bg"
      }
    },
    {
      "cell_type": "code",
      "source": [
        "# Pedir al usuario que ingrese dos valores\n",
        "valor1 = input(\"Ingresa el primer valor: \")\n",
        "valor2 = input(\"Ingresa el segundo valor: \")\n",
        "\n",
        "# Mostrar los valores ingresados por el usuario\n",
        "print(\"Valores ingresados:\")\n",
        "print(\"Primer valor:\", valor1)\n",
        "print(\"Segundo valor:\", valor2)\n",
        "\n",
        "# Intercambiar los valores de las variables\n",
        "temp = valor1\n",
        "valor1 = valor2\n",
        "valor2 = temp\n",
        "\n",
        "# Mostrar los valores intercambiados\n",
        "print(\"\\nValores intercambiados:\")\n",
        "print(\"Primer valor:\", valor1)\n",
        "print(\"Segundo valor:\", valor2)"
      ],
      "metadata": {
        "colab": {
          "base_uri": "https://localhost:8080/"
        },
        "id": "4ogOol-3pEET",
        "outputId": "d5eb5891-fb52-4c72-eb6c-2c280e9101a4"
      },
      "execution_count": 3,
      "outputs": [
        {
          "output_type": "stream",
          "name": "stdout",
          "text": [
            "Ingresa el primer valor: 3\n",
            "Ingresa el segundo valor: 5\n",
            "Valores ingresados:\n",
            "Primer valor: 3\n",
            "Segundo valor: 5\n",
            "\n",
            "Valores intercambiados:\n",
            "Primer valor: 5\n",
            "Segundo valor: 3\n"
          ]
        }
      ]
    },
    {
      "cell_type": "markdown",
      "source": [
        "## Ejercicio 6\n",
        "Solicitar tres longitudes y determinar si pueden formar un triángulo equilátero,\n",
        "isósceles o escaleno."
      ],
      "metadata": {
        "id": "PzXvURPipjJc"
      }
    },
    {
      "cell_type": "code",
      "source": [
        "# Solicitar al usuario que ingrese tres longitudes\n",
        "lado1 = float(input(\"Ingresa la longitud del primer lado: \"))\n",
        "lado2 = float(input(\"Ingresa la longitud del segundo lado: \"))\n",
        "lado3 = float(input(\"Ingresa la longitud del tercer lado: \"))\n",
        "\n",
        "# Verificar si las longitudes pueden formar un triángulo\n",
        "if lado1 + lado2 > lado3 and lado1 + lado3 > lado2 and lado2 + lado3 > lado1:\n",
        "    # Si cumple la desigualdad triangular, podemos continuar\n",
        "    if lado1 == lado2 and lado2 == lado3:\n",
        "        print(\"Estos lados forman un triángulo equilátero.\")\n",
        "    elif lado1 == lado2 or lado1 == lado3 or lado2 == lado3:\n",
        "        print(\"Estos lados forman un triángulo isósceles.\")\n",
        "    else:\n",
        "        print(\"Estos lados forman un triángulo escaleno.\")\n",
        "else:\n",
        "    print(\"Estas longitudes no pueden formar un triángulo.\")"
      ],
      "metadata": {
        "colab": {
          "base_uri": "https://localhost:8080/"
        },
        "id": "_gF6dRjJpwZv",
        "outputId": "fc0c5d29-d00c-4ea6-b530-0debb0eba19c"
      },
      "execution_count": 5,
      "outputs": [
        {
          "output_type": "stream",
          "name": "stdout",
          "text": [
            "Ingresa la longitud del primer lado: 6\n",
            "Ingresa la longitud del segundo lado: 4\n",
            "Ingresa la longitud del tercer lado: 6\n",
            "Estos lados forman un triángulo isósceles.\n"
          ]
        }
      ]
    },
    {
      "cell_type": "markdown",
      "source": [
        "## Ejecicio 7\n",
        "Crear un programa que verifique la seguridad de una contraseña ingresada por el\n",
        "usuario (por ejemplo, al menos 8 caracteres, una mezcla de letras, números y\n",
        "símbolos, etc.)"
      ],
      "metadata": {
        "id": "Q87YxczJqD4j"
      }
    },
    {
      "cell_type": "code",
      "source": [
        "import re\n",
        "\n",
        "# Función para verificar la seguridad de una contraseña\n",
        "def verificar_contrasena(contrasena):\n",
        "    # Reglas de seguridad\n",
        "    # al menos 8 caracteres\n",
        "    # al menos una letra mayúscula\n",
        "    # al menos una letra minúscula\n",
        "    # al menos un número\n",
        "    # al menos un carácter especial (por ejemplo, @, #, $, etc.)\n",
        "    patron = r\"^(?=.*[A-Za-z])(?=.*\\d)(?=.*[@#$%^&+=]).{8,}$\"\n",
        "\n",
        "    if re.match(patron, contrasena):\n",
        "        return True\n",
        "    else:\n",
        "        return False\n",
        "\n",
        "# Solicitar al usuario que ingrese una contraseña\n",
        "contrasena = input(\"Ingresa una contraseña: \")\n",
        "\n",
        "# Verificar la seguridad de la contraseña\n",
        "if verificar_contrasena(contrasena):\n",
        "    print(\"La contraseña es segura.\")\n",
        "else:\n",
        "    print(\"La contraseña no cumple con los requisitos de seguridad.\")"
      ],
      "metadata": {
        "colab": {
          "base_uri": "https://localhost:8080/"
        },
        "id": "Lw1aWu2VqM8f",
        "outputId": "15edfae5-b861-4601-eab9-de53be2af28c"
      },
      "execution_count": 6,
      "outputs": [
        {
          "output_type": "stream",
          "name": "stdout",
          "text": [
            "Ingresa una contraseña: contraseña\n",
            "La contraseña no cumple con los requisitos de seguridad.\n"
          ]
        }
      ]
    },
    {
      "cell_type": "markdown",
      "source": [
        "##Ejercicio 8\n",
        " Pedir al usuario que ingrese un número y determinar si es primo o no"
      ],
      "metadata": {
        "id": "G8m3eG4LqvwD"
      }
    },
    {
      "cell_type": "code",
      "source": [
        "# Función para verificar si un número es primo\n",
        "def es_primo(numero):\n",
        "    if numero <= 1:\n",
        "        return False\n",
        "    if numero <= 3:\n",
        "        return True\n",
        "    if numero % 2 == 0 or numero % 3 == 0:\n",
        "        return False\n",
        "    i = 5\n",
        "    while i * i <= numero:\n",
        "        if numero % i == 0 or numero % (i + 2) == 0:\n",
        "            return False\n",
        "        i += 6\n",
        "    return True\n",
        "\n",
        "# Solicitar al usuario que ingrese un número\n",
        "numero = int(input(\"Ingresa un número: \"))\n",
        "\n",
        "# Verificar si el número es primo\n",
        "if es_primo(numero):\n",
        "    print(numero, \"es un número primo.\")\n",
        "else:\n",
        "    print(numero, \"no es un número primo.\")"
      ],
      "metadata": {
        "colab": {
          "base_uri": "https://localhost:8080/"
        },
        "id": "XNhZeKwdrBcI",
        "outputId": "f620ab09-e693-4d61-dabd-34b2e843adaa"
      },
      "execution_count": 7,
      "outputs": [
        {
          "output_type": "stream",
          "name": "stdout",
          "text": [
            "Ingresa un número: 4\n",
            "4 no es un número primo.\n"
          ]
        }
      ]
    },
    {
      "cell_type": "markdown",
      "source": [
        "##Ejercicio 9\n",
        " Implementa un programa que permita al usuario ingresar una serie de calificaciones\n",
        "y luego calcule el promedio de estas calificaciones. El programa debe preguntar al\n",
        "usuario si desea continuar ingresando calificaciones después de cada entrada."
      ],
      "metadata": {
        "id": "bZK6LFdTrPaO"
      }
    },
    {
      "cell_type": "code",
      "source": [
        "# Lista para almacenar las calificaciones ingresadas\n",
        "calificaciones = []\n",
        "\n",
        "while True:\n",
        "    try:\n",
        "        # Solicitar al usuario que ingrese una calificación\n",
        "        calificacion = float(input(\"Ingresa una calificación: \"))\n",
        "\n",
        "        # Agregar la calificación a la lista\n",
        "        calificaciones.append(calificacion)\n",
        "\n",
        "        # Preguntar al usuario si desea ingresar otra calificación\n",
        "        continuar = input(\"¿Deseas ingresar otra calificación? (S/N): \").strip().lower()\n",
        "        if continuar != 's':\n",
        "            break  # Salir del bucle si el usuario no desea continuar\n",
        "    except ValueError:\n",
        "        print(\"Por favor, ingresa una calificación válida.\")\n",
        "\n",
        "# Calcular el promedio de las calificaciones\n",
        "if len(calificaciones) > 0:\n",
        "    promedio = sum(calificaciones) / len(calificaciones)\n",
        "    print(\"El promedio de las calificaciones es:\", promedio)\n",
        "else:\n",
        "    print(\"No se ingresaron calificaciones.\")"
      ],
      "metadata": {
        "colab": {
          "base_uri": "https://localhost:8080/"
        },
        "id": "79Z20j2Urel8",
        "outputId": "889a07bf-9b96-455a-8d2a-205064d8871d"
      },
      "execution_count": 8,
      "outputs": [
        {
          "output_type": "stream",
          "name": "stdout",
          "text": [
            "Ingresa una calificación: 3.4\n",
            "¿Deseas ingresar otra calificación? (S/N): s\n",
            "Ingresa una calificación: 3.5\n",
            "¿Deseas ingresar otra calificación? (S/N): 3.8\n",
            "El promedio de las calificaciones es: 3.45\n"
          ]
        }
      ]
    },
    {
      "cell_type": "markdown",
      "source": [
        "##Ejercicio 10\n",
        " Escribe un programa que calcule e imprima la suma de todos los números impares\n",
        "en el rango del 1 al 100."
      ],
      "metadata": {
        "id": "px-uRsLvrx7U"
      }
    },
    {
      "cell_type": "code",
      "source": [
        "# Inicializar una variable para almacenar la suma\n",
        "suma_impares = 0\n",
        "\n",
        "# Iterar a través del rango del 1 al 100\n",
        "for numero in range(1, 101):\n",
        "    # Verificar si el número es impar\n",
        "    if numero % 2 != 0:\n",
        "        suma_impares += numero\n",
        "\n",
        "# Imprimir la suma de los números impares\n",
        "print(\"La suma de los números impares del 1 al 100 es:\", suma_impares)"
      ],
      "metadata": {
        "colab": {
          "base_uri": "https://localhost:8080/"
        },
        "id": "azdZP_cYsDbn",
        "outputId": "31212444-037a-4fb5-ffa0-5414780c24f9"
      },
      "execution_count": 10,
      "outputs": [
        {
          "output_type": "stream",
          "name": "stdout",
          "text": [
            "La suma de los números impares del 1 al 100 es: 2500\n"
          ]
        }
      ]
    },
    {
      "cell_type": "markdown",
      "source": [
        "##Ejercicio 11\n",
        " Implementa un programa que permita al usuario ingresar una serie de números y\n",
        "luego encuentre el número más grande y el número más pequeño de la serie, pero\n",
        "esta vez, sin usar listas o arreglos para almacenar los números."
      ],
      "metadata": {
        "id": "mTo5liyfsMLX"
      }
    },
    {
      "cell_type": "code",
      "source": [
        "# Inicializar las variables para el número máximo y mínimo\n",
        "numero_maximo = None\n",
        "numero_minimo = None\n",
        "\n",
        "while True:\n",
        "    try:\n",
        "        # Solicitar al usuario que ingrese un número\n",
        "        entrada = input(\"Ingresa un número (o 'fin' para terminar): \")\n",
        "\n",
        "        if entrada.lower() == 'fin':\n",
        "            break  # Salir del bucle si el usuario ingresa 'fin'\n",
        "\n",
        "        numero = float(entrada)\n",
        "\n",
        "        # Actualizar el número máximo y mínimo\n",
        "        if numero_maximo is None or numero > numero_maximo:\n",
        "            numero_maximo = numero\n",
        "        if numero_minimo is None or numero < numero_minimo:\n",
        "            numero_minimo = numero\n",
        "    except ValueError:\n",
        "        print(\"Por favor, ingresa un número válido.\")\n",
        "\n",
        "# Verificar si se ingresaron números\n",
        "if numero_maximo is not None and numero_minimo is not None:\n",
        "    print(\"El número más grande es:\", numero_maximo)\n",
        "    print(\"El número más pequeño es:\", numero_minimo)\n",
        "else:\n",
        "    print(\"No se ingresaron números.\")"
      ],
      "metadata": {
        "colab": {
          "base_uri": "https://localhost:8080/"
        },
        "id": "Cnkq7X4BsP6w",
        "outputId": "21bb5dd7-110c-4f6a-8fb3-48edf27507ec"
      },
      "execution_count": 11,
      "outputs": [
        {
          "output_type": "stream",
          "name": "stdout",
          "text": [
            "Ingresa un número (o 'fin' para terminar): 30\n",
            "Ingresa un número (o 'fin' para terminar): 20\n",
            "Ingresa un número (o 'fin' para terminar): 13\n",
            "Ingresa un número (o 'fin' para terminar): 13\n",
            "Ingresa un número (o 'fin' para terminar): 32\n",
            "Ingresa un número (o 'fin' para terminar): 13\n",
            "Ingresa un número (o 'fin' para terminar): 134\n",
            "Ingresa un número (o 'fin' para terminar): 57\n",
            "Ingresa un número (o 'fin' para terminar): 765\n",
            "Ingresa un número (o 'fin' para terminar): 44\n",
            "Ingresa un número (o 'fin' para terminar): fin\n",
            "El número más grande es: 765.0\n",
            "El número más pequeño es: 13.0\n"
          ]
        }
      ]
    },
    {
      "cell_type": "markdown",
      "source": [
        "##Ejercicio 12\n",
        "implementa un programa que calcule el producto de todos los números pares en el\n",
        "rango del 1 al 100."
      ],
      "metadata": {
        "id": "2odWc1-_s1xX"
      }
    },
    {
      "cell_type": "code",
      "source": [
        "# Inicializar una variable para el producto\n",
        "producto_pares = 1\n",
        "\n",
        "# Iterar a través del rango del 1 al 100\n",
        "for numero in range(2, 101, 2):  # Comenzamos en 2 y avanzamos de 2 en 2 para obtener números pares\n",
        "    producto_pares *= numero\n",
        "\n",
        "# Imprimir el producto de los números pares\n",
        "print(\"El producto de los números pares del 1 al 100 es:\", producto_pares)"
      ],
      "metadata": {
        "colab": {
          "base_uri": "https://localhost:8080/"
        },
        "id": "OZWENZZqtDN5",
        "outputId": "f9d7d175-13e9-43d3-8a7c-527ac5587ae6"
      },
      "execution_count": 12,
      "outputs": [
        {
          "output_type": "stream",
          "name": "stdout",
          "text": [
            "El producto de los números pares del 1 al 100 es: 34243224702511976248246432895208185975118675053719198827915654463488000000000000\n"
          ]
        }
      ]
    },
    {
      "cell_type": "markdown",
      "source": [
        "##Ejercicio 13\n",
        " Solicita al usuario que ingrese una serie de números y luego muestra la suma de\n",
        "todos los números primos en la serie."
      ],
      "metadata": {
        "id": "tXkGvmHXtRpU"
      }
    },
    {
      "cell_type": "code",
      "source": [
        "# Función para verificar si un número es primo\n",
        "def es_primo(numero):\n",
        "    if numero <= 1:\n",
        "        return False\n",
        "    if numero <= 3:\n",
        "        return True\n",
        "    if numero % 2 == 0 or numero % 3 == 0:\n",
        "        return False\n",
        "    i = 5\n",
        "    while i * i <= numero:\n",
        "        if numero % i == 0 or numero % (i + 2) == 0:\n",
        "            return False\n",
        "        i += 6\n",
        "    return True\n",
        "\n",
        "# Solicitar al usuario que ingrese una serie de números separados por espacios\n",
        "numeros = input(\"Ingresa una serie de números separados por espacios: \").split()\n",
        "\n",
        "# Inicializar una variable para la suma de números primos\n",
        "suma_primos = 0\n",
        "\n",
        "# Iterar a través de los números ingresados\n",
        "for numero_str in numeros:\n",
        "    try:\n",
        "        numero = int(numero_str)\n",
        "        if es_primo(numero):\n",
        "            suma_primos += numero\n",
        "    except ValueError:\n",
        "        print(f\"El valor '{numero_str}' no es un número entero y se omitirá.\")\n",
        "\n",
        "# Imprimir la suma de números primos\n",
        "print(\"La suma de los números primos en la serie es:\", suma_primos)"
      ],
      "metadata": {
        "colab": {
          "base_uri": "https://localhost:8080/"
        },
        "id": "QVxUwjm6tloD",
        "outputId": "06239a33-398d-462b-c86e-3d4e68e27562"
      },
      "execution_count": 13,
      "outputs": [
        {
          "output_type": "stream",
          "name": "stdout",
          "text": [
            "Ingresa una serie de números separados por espacios: 5 6 77 4 222 131 23\n",
            "La suma de los números primos en la serie es: 159\n"
          ]
        }
      ]
    },
    {
      "cell_type": "markdown",
      "source": [
        "## Ejercicio 14\n",
        "  Escribe un programa que solicite al usuario un número y luego muestre todos los\n",
        "números perfectos en el rango del 1 al número ingresado. (Un número perfecto es\n",
        "aquel que es igual a la suma de sus divisores propios positivos, excluyendo sí\n",
        "mismo).\n"
      ],
      "metadata": {
        "id": "u2IWwx8QuPE_"
      }
    },
    {
      "cell_type": "code",
      "source": [
        "# Función para verificar si un número es perfecto\n",
        "def es_numero_perfecto(numero):\n",
        "    suma_divisores = 0\n",
        "    for i in range(1, numero):\n",
        "        if numero % i == 0:\n",
        "            suma_divisores += i\n",
        "    return suma_divisores == numero\n",
        "\n",
        "# Solicitar al usuario que ingrese un número\n",
        "numero_ingresado = int(input(\"Ingresa un número: \"))\n",
        "\n",
        "# Mostrar los números perfectos en el rango del 1 al número ingresado\n",
        "print(f\"Números perfectos en el rango del 1 al {numero_ingresado}:\")\n",
        "for i in range(1, numero_ingresado + 1):\n",
        "    if es_numero_perfecto(i):\n",
        "        print(i)"
      ],
      "metadata": {
        "colab": {
          "base_uri": "https://localhost:8080/"
        },
        "id": "3y2_0BVcucUe",
        "outputId": "96b82ccd-47c2-4f34-bacc-25cb32b01609"
      },
      "execution_count": 18,
      "outputs": [
        {
          "output_type": "stream",
          "name": "stdout",
          "text": [
            "Ingresa un número: 5\n",
            "Números perfectos en el rango del 1 al 5:\n"
          ]
        }
      ]
    },
    {
      "cell_type": "markdown",
      "source": [
        "##Ejercicio 15\n",
        " Escribe un programa que solicite al usuario un número y luego muestre todos los\n",
        "números amigables en el rango del 1 al número ingresado. (Dos números son\n",
        "amigables si la suma de los divisores propios de uno es igual al otro y viceversa)."
      ],
      "metadata": {
        "id": "AZQHLwL8vgTU"
      }
    },
    {
      "cell_type": "code",
      "source": [
        "# Función para calcular la suma de los divisores propios de un número\n",
        "def suma_divisores_propios(numero):\n",
        "    suma = 0\n",
        "    for i in range(1, numero):\n",
        "        if numero % i == 0:\n",
        "            suma += i\n",
        "    return suma\n",
        "\n",
        "# Solicitar al usuario que ingrese un número\n",
        "numero_ingresado = int(input(\"Ingresa un número: \"))\n",
        "\n",
        "# Mostrar los números amigables en el rango del 1 al número ingresado\n",
        "print(f\"Números amigables en el rango del 1 al {numero_ingresado}:\")\n",
        "for i in range(1, numero_ingresado + 1):\n",
        "    suma_i = suma_divisores_propios(i)\n",
        "    if suma_i > i and suma_i <= numero_ingresado:\n",
        "        suma_j = suma_divisores_propios(suma_i)\n",
        "        if suma_j == i:\n",
        "            print(f\"({i}, {suma_i})\")"
      ],
      "metadata": {
        "colab": {
          "base_uri": "https://localhost:8080/"
        },
        "id": "hKWnImKnvto8",
        "outputId": "43cebd35-c8d9-4821-b425-b104278bba15"
      },
      "execution_count": 19,
      "outputs": [
        {
          "output_type": "stream",
          "name": "stdout",
          "text": [
            "Ingresa un número: 4\n",
            "Números amigables en el rango del 1 al 4:\n"
          ]
        }
      ]
    },
    {
      "cell_type": "markdown",
      "source": [
        "## Ejercicio 16\n",
        "Pedir al usuario que ingrese dos valores y luego intercambiar los valores de las\n",
        "variables y mostrarlos.\n"
      ],
      "metadata": {
        "id": "TagRwzgEwV-a"
      }
    },
    {
      "cell_type": "code",
      "source": [
        "# Solicitar al usuario que ingrese dos valores\n",
        "valor1 = input(\"Ingresa el primer valor: \")\n",
        "valor2 = input(\"Ingresa el segundo valor: \")\n",
        "\n",
        "# Mostrar los valores ingresados por el usuario\n",
        "print(\"Valores ingresados:\")\n",
        "print(\"Primer valor:\", valor1)\n",
        "print(\"Segundo valor:\", valor2)\n",
        "\n",
        "# Intercambiar los valores de las variables\n",
        "temp = valor1\n",
        "valor1 = valor2\n",
        "valor2 = temp\n",
        "\n",
        "# Mostrar los valores intercambiados\n",
        "print(\"\\nValores intercambiados:\")\n",
        "print(\"Primer valor:\", valor1)\n",
        "print(\"Segundo valor:\", valor2)"
      ],
      "metadata": {
        "colab": {
          "base_uri": "https://localhost:8080/"
        },
        "id": "M29pdRZLwvQk",
        "outputId": "d7a08c5f-aa69-4932-fa3f-57ac0fea5330"
      },
      "execution_count": 22,
      "outputs": [
        {
          "output_type": "stream",
          "name": "stdout",
          "text": [
            "Ingresa el primer valor: 35\n",
            "Ingresa el segundo valor: 14\n",
            "Valores ingresados:\n",
            "Primer valor: 35\n",
            "Segundo valor: 14\n",
            "\n",
            "Valores intercambiados:\n",
            "Primer valor: 14\n",
            "Segundo valor: 35\n"
          ]
        }
      ]
    },
    {
      "cell_type": "markdown",
      "source": [
        "## Ejercicio 17\n",
        " Pedir al usuario que ingrese un número y determinar si es primo o no."
      ],
      "metadata": {
        "id": "bq5FRMYbxJlT"
      }
    },
    {
      "cell_type": "code",
      "source": [
        "# Solicitar al usuario que ingrese un número\n",
        "numero = int(input(\"Ingresa un número: \"))\n",
        "\n",
        "# Verificar si el número es primo\n",
        "es_primo = True\n",
        "if numero <= 1:\n",
        "    es_primo = False\n",
        "elif numero <= 3:\n",
        "    es_primo = True\n",
        "elif numero % 2 == 0 or numero % 3 == 0:\n",
        "    es_primo = False\n",
        "else:\n",
        "    i = 5\n",
        "    while i * i <= numero:\n",
        "        if numero % i == 0 or numero % (i + 2) == 0:\n",
        "            es_primo = False\n",
        "            break\n",
        "        i += 6\n",
        "\n",
        "# Mostrar el resultado\n",
        "if es_primo:\n",
        "    print(numero, \"es un número primo.\")\n",
        "else:\n",
        "    print(numero, \"no es un número primo.\")"
      ],
      "metadata": {
        "colab": {
          "base_uri": "https://localhost:8080/"
        },
        "id": "y0P7n1NZxJGX",
        "outputId": "a1fe05ba-4db8-4b19-c5ee-90725f83b1a9"
      },
      "execution_count": 23,
      "outputs": [
        {
          "output_type": "stream",
          "name": "stdout",
          "text": [
            "Ingresa un número: 32\n",
            "32 no es un número primo.\n"
          ]
        }
      ]
    },
    {
      "cell_type": "markdown",
      "source": [
        "## Ejercicio 18\n",
        " Crea un programa que genere una lista de números aleatorios y luego muestre\n",
        "cuántos de esos números son pares y cuántos son impares."
      ],
      "metadata": {
        "id": "eFqsHDqJxlxJ"
      }
    },
    {
      "cell_type": "code",
      "source": [
        "import random\n",
        "\n",
        "# Definir la cantidad de números aleatorios a generar\n",
        "cantidad_numeros = 10  # Puedes ajustar esta cantidad según tus preferencias\n",
        "\n",
        "# Generar una lista de números aleatorios\n",
        "numeros_aleatorios = [random.randint(1, 100) for _ in range(cantidad_numeros)]\n",
        "\n",
        "# Inicializar contadores para números pares e impares\n",
        "pares = 0\n",
        "impares = 0\n",
        "\n",
        "# Contar cuántos números son pares e impares\n",
        "for numero in numeros_aleatorios:\n",
        "    if numero % 2 == 0:\n",
        "        pares += 1\n",
        "    else:\n",
        "        impares += 1\n",
        "\n",
        "# Mostrar los resultados\n",
        "print(\"Números generados:\", numeros_aleatorios)\n",
        "print(\"Cantidad de números pares:\", pares)\n",
        "print(\"Cantidad de números impares:\", impares)"
      ],
      "metadata": {
        "colab": {
          "base_uri": "https://localhost:8080/"
        },
        "id": "AMbe139xx6f9",
        "outputId": "e1b09e98-70a5-48f9-b439-58025ccf9755"
      },
      "execution_count": 24,
      "outputs": [
        {
          "output_type": "stream",
          "name": "stdout",
          "text": [
            "Números generados: [58, 79, 38, 77, 87, 64, 17, 61, 58, 29]\n",
            "Cantidad de números pares: 4\n",
            "Cantidad de números impares: 6\n"
          ]
        }
      ]
    },
    {
      "cell_type": "markdown",
      "source": [
        "## Ejercicio 19\n",
        " Solicitar al usuario que busque un contacto en una lista de contactos (utilizando un\n",
        "diccionario).\n"
      ],
      "metadata": {
        "id": "t1PdVj39yFNr"
      }
    },
    {
      "cell_type": "code",
      "source": [
        "# Definir una lista de contactos como un diccionario\n",
        "lista_de_contactos = {\n",
        "    \"Juan\": \"123-456-7890\",\n",
        "    \"María\": \"987-654-3210\",\n",
        "    \"Luis\": \"555-123-4567\",\n",
        "    \"Ana\": \"777-888-9999\",\n",
        "}\n",
        "\n",
        "# Solicitar al usuario que ingrese el nombre del contacto a buscar\n",
        "nombre = input(\"Ingresa el nombre del contacto que deseas buscar: \")\n",
        "\n",
        "# Buscar el contacto en la lista de contactos\n",
        "if nombre in lista_de_contactos:\n",
        "    numero = lista_de_contactos[nombre]\n",
        "    print(f\"El número de {nombre} es: {numero}\")\n",
        "else:\n",
        "    print(f\"{nombre} no se encuentra en la lista de contactos.\")"
      ],
      "metadata": {
        "colab": {
          "base_uri": "https://localhost:8080/"
        },
        "id": "SilXkBZLyUln",
        "outputId": "1645d89f-4e37-4f4c-8384-a079877b633a"
      },
      "execution_count": 27,
      "outputs": [
        {
          "output_type": "stream",
          "name": "stdout",
          "text": [
            "Ingresa el nombre del contacto que deseas buscar: Ana\n",
            "El número de Ana es: 777-888-9999\n"
          ]
        }
      ]
    },
    {
      "cell_type": "markdown",
      "source": [
        "## Ejercicio 20\n",
        " Crear un programa que permita al usuario agregar, eliminar y listar tareas pendientes\n",
        "en una lista"
      ],
      "metadata": {
        "id": "14Xj0A_pyr7g"
      }
    },
    {
      "cell_type": "code",
      "source": [
        "# Inicializar una lista para almacenar las tareas pendientes\n",
        "tareas_pendientes = []\n",
        "\n",
        "# Función para agregar una tarea a la lista\n",
        "def agregar_tarea():\n",
        "    tarea = input(\"Ingresa una nueva tarea: \")\n",
        "    tareas_pendientes.append(tarea)\n",
        "    print(\"Tarea agregada.\")\n",
        "\n",
        "# Función para eliminar una tarea de la lista\n",
        "def eliminar_tarea():\n",
        "    if not tareas_pendientes:\n",
        "        print(\"No hay tareas para eliminar.\")\n",
        "    else:\n",
        "        print(\"Tareas pendientes:\")\n",
        "        for i, tarea in enumerate(tareas_pendientes):\n",
        "            print(f\"{i + 1}: {tarea}\")\n",
        "        numero_tarea = int(input(\"Ingresa el número de la tarea que deseas eliminar: \"))\n",
        "        if 1 <= numero_tarea <= len(tareas_pendientes):\n",
        "            tarea_eliminada = tareas_pendientes.pop(numero_tarea - 1)\n",
        "            print(f\"Tarea eliminada: {tarea_eliminada}\")\n",
        "        else:\n",
        "            print(\"Número de tarea inválido.\")\n",
        "\n",
        "# Función para listar las tareas pendientes\n",
        "def listar_tareas():\n",
        "    if not tareas_pendientes:\n",
        "        print(\"No hay tareas pendientes.\")\n",
        "    else:\n",
        "        print(\"Tareas pendientes:\")\n",
        "        for i, tarea in enumerate(tareas_pendientes):\n",
        "            print(f\"{i + 1}: {tarea}\")\n",
        "\n",
        "while True:\n",
        "    print(\"\\nMenu de tareas:\")\n",
        "    print(\"1. Agregar tarea\")\n",
        "    print(\"2. Eliminar tarea\")\n",
        "    print(\"3. Listar tareas\")\n",
        "    print(\"4. Salir\")\n",
        "    opcion = input(\"Elige una opción (1/2/3/4): \")\n",
        "\n",
        "    if opcion == \"1\":\n",
        "        agregar_tarea()\n",
        "    elif opcion == \"2\":\n",
        "        eliminar_tarea()\n",
        "    elif opcion == \"3\":\n",
        "        listar_tareas()\n",
        "    elif opcion == \"4\":\n",
        "        print(\"Saliendo del programa.\")\n",
        "        break\n",
        "    else:\n",
        "        print(\"Opción no válida. Por favor, elige una opción válida.\")"
      ],
      "metadata": {
        "colab": {
          "base_uri": "https://localhost:8080/"
        },
        "id": "7zUVaiuny4UY",
        "outputId": "91c639da-11b1-4985-a726-ca4a3a261ff3"
      },
      "execution_count": 29,
      "outputs": [
        {
          "output_type": "stream",
          "name": "stdout",
          "text": [
            "\n",
            "Menu de tareas:\n",
            "1. Agregar tarea\n",
            "2. Eliminar tarea\n",
            "3. Listar tareas\n",
            "4. Salir\n",
            "Elige una opción (1/2/3/4): 1\n",
            "Ingresa una nueva tarea: jugar\n",
            "Tarea agregada.\n",
            "\n",
            "Menu de tareas:\n",
            "1. Agregar tarea\n",
            "2. Eliminar tarea\n",
            "3. Listar tareas\n",
            "4. Salir\n",
            "Elige una opción (1/2/3/4): 1\n",
            "Ingresa una nueva tarea: lavar\n",
            "Tarea agregada.\n",
            "\n",
            "Menu de tareas:\n",
            "1. Agregar tarea\n",
            "2. Eliminar tarea\n",
            "3. Listar tareas\n",
            "4. Salir\n",
            "Elige una opción (1/2/3/4): 1\n",
            "Ingresa una nueva tarea: pescar \n",
            "Tarea agregada.\n",
            "\n",
            "Menu de tareas:\n",
            "1. Agregar tarea\n",
            "2. Eliminar tarea\n",
            "3. Listar tareas\n",
            "4. Salir\n",
            "Elige una opción (1/2/3/4): 1\n",
            "Ingresa una nueva tarea: salir\n",
            "Tarea agregada.\n",
            "\n",
            "Menu de tareas:\n",
            "1. Agregar tarea\n",
            "2. Eliminar tarea\n",
            "3. Listar tareas\n",
            "4. Salir\n",
            "Elige una opción (1/2/3/4): 4\n",
            "Saliendo del programa.\n"
          ]
        }
      ]
    }
  ]
}